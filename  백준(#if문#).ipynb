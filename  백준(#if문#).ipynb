{
 "cells": [
  {
   "cell_type": "markdown",
   "metadata": {},
   "source": [
    "<h2>#if문#<h2>"
   ]
  },
  {
   "cell_type": "markdown",
   "metadata": {},
   "source": [
    "<br>문제 번호 : 1330<br>\n",
    "<br>제목 : 두 수 비교하기<br>"
   ]
  },
  {
   "cell_type": "code",
   "execution_count": 5,
   "metadata": {},
   "outputs": [],
   "source": [
    "# 예제\n",
    "# 1 2\n",
    "# <\n",
    "#########\n",
    "# 10 2\n",
    "# >\n",
    "#########\n",
    "# 5 5\n",
    "# =="
   ]
  },
  {
   "cell_type": "code",
   "execution_count": 12,
   "metadata": {},
   "outputs": [
    {
     "name": "stdout",
     "output_type": "stream",
     "text": [
      "5 5\n",
      "==\n"
     ]
    }
   ],
   "source": [
    "A ,B = map(int, input(). split())\n",
    "if A > B :\n",
    "    print('>')\n",
    "elif A < B :\n",
    "    print('<')\n",
    "else:\n",
    "    print('==')\n"
   ]
  },
  {
   "cell_type": "markdown",
   "metadata": {},
   "source": [
    "---"
   ]
  },
  {
   "cell_type": "markdown",
   "metadata": {},
   "source": [
    "<br>문제 번호 : 9498<br>\n",
    "<br>제목 : 시험 성적<br>"
   ]
  },
  {
   "cell_type": "code",
   "execution_count": 14,
   "metadata": {},
   "outputs": [],
   "source": [
    "# 예제\n",
    "# 100\n",
    "# A"
   ]
  },
  {
   "cell_type": "code",
   "execution_count": 25,
   "metadata": {},
   "outputs": [
    {
     "name": "stdout",
     "output_type": "stream",
     "text": [
      "59\n",
      "F\n"
     ]
    }
   ],
   "source": [
    "score = int(input())\n",
    "if score >= 90 :\n",
    "    print('A')\n",
    "elif score >= 80 :\n",
    "    print('B')\n",
    "elif score >= 70 :\n",
    "    print('C')\n",
    "elif score >= 60 :\n",
    "    print('D')\n",
    "else:\n",
    "    print('F')"
   ]
  },
  {
   "cell_type": "markdown",
   "metadata": {},
   "source": [
    "---"
   ]
  },
  {
   "cell_type": "markdown",
   "metadata": {},
   "source": [
    "<br>문제 번호 : 2753<br>\n",
    "<br>제목 : 윤년<br>"
   ]
  },
  {
   "cell_type": "code",
   "execution_count": 26,
   "metadata": {},
   "outputs": [],
   "source": [
    "# 예제\n",
    "# 2000\n",
    "# 1\n",
    "############\n",
    "# 1999\n",
    "# 0\n",
    "# 연도가 주어졌을 때, 윤년이면 1, 아니면 0을 출력하는 프로그램을 작성하시오.\n",
    "\n",
    "윤년은 연도가 4의 배수이면서, 100의 배수가 아닐 때 또는 400의 배수일 때이다.\n",
    "\n",
    "예를 들어, 2012년은 4의 배수이면서 100의 배수가 아니라서 윤년이다. \n",
    "1900년은 100의 배수이고 400의 배수는 아니기 때문에 윤년이 아니다. \n",
    "하지만, 2000년은 400의 배수이기 때문에 윤년이다."
   ]
  },
  {
   "cell_type": "code",
   "execution_count": 3,
   "metadata": {},
   "outputs": [
    {
     "name": "stdout",
     "output_type": "stream",
     "text": [
      "1994\n",
      "0\n"
     ]
    }
   ],
   "source": [
    "year = int(input())\n",
    "if ((year%4 == 0)and(year%100 !=0) or (year%400 == 0)):\n",
    "    print('1')\n",
    "else:\n",
    "    print('0')"
   ]
  },
  {
   "cell_type": "markdown",
   "metadata": {},
   "source": [
    "---"
   ]
  },
  {
   "cell_type": "markdown",
   "metadata": {},
   "source": [
    "<br>문제 번호 : 14681<br>\n",
    "<br>제목 : 사분면 고르기<br>"
   ]
  },
  {
   "cell_type": "code",
   "execution_count": 6,
   "metadata": {},
   "outputs": [],
   "source": [
    "# 예제\n",
    "# 12\n",
    "# 5\n",
    "# 1\n",
    "############\n",
    "# 9\n",
    "# -13\n",
    "# 4\n",
    "# 흔한 수학 문제 중 하나는 주어진 점이 어느 사분면에 속하는지 알아내는 것이다. 사분면은 아래 그림처럼 1부터 4까지 번호를 갖는다. \"Quadrant n\"은 \"제n사분면\"이라는 뜻이다.\n",
    "\n",
    "# 예를 들어, 좌표가 (12, 5)인 점 A는 x좌표와 y좌표가 모두 양수이므로 제1사분면에 속한다. 점 B는 x좌표가 음수이고 y좌표가 양수이므로 제2사분면에 속한다.\n",
    "\n",
    "# 점의 좌표를 입력받아 그 점이 어느 사분면에 속하는지 알아내는 프로그램을 작성하시오. 단, x좌표와 y좌표는 모두 양수나 음수라고 가정한다."
   ]
  },
  {
   "cell_type": "code",
   "execution_count": 9,
   "metadata": {},
   "outputs": [
    {
     "name": "stdout",
     "output_type": "stream",
     "text": [
      "12\n",
      "-5\n",
      "4\n"
     ]
    }
   ],
   "source": [
    "x = int(input())\n",
    "y = int(input())\n",
    "\n",
    "if x > 0 and y > 0 :\n",
    "    print('1')\n",
    "elif x < 0 and y > 0 :\n",
    "    print('2')\n",
    "elif x < 0 and y < 0 :\n",
    "    print('3')\n",
    "else :\n",
    "    print('4')"
   ]
  },
  {
   "cell_type": "markdown",
   "metadata": {},
   "source": [
    "---"
   ]
  },
  {
   "cell_type": "markdown",
   "metadata": {},
   "source": [
    "<br>문제 번호 : 2884<br>\n",
    "<br>제목 : 알람 시계<br>"
   ]
  },
  {
   "cell_type": "code",
   "execution_count": 10,
   "metadata": {},
   "outputs": [],
   "source": [
    "# 예제\n",
    "# 10 10\n",
    "# 9 25\n",
    "# 0 30\n",
    "# 23 45\n",
    "# 입력한 시간 보다 45분 빠르게 알람 설정"
   ]
  },
  {
   "cell_type": "code",
   "execution_count": 15,
   "metadata": {},
   "outputs": [
    {
     "name": "stdout",
     "output_type": "stream",
     "text": [
      "11 25\n",
      "10 40\n"
     ]
    }
   ],
   "source": [
    "h, m = map(int, input().split())\n",
    "\n",
    "if m > 44:\n",
    "    print(h,m-45)\n",
    "elif m < 45 and h>0:\n",
    "    print(h-1, m+15)\n",
    "else:\n",
    "    print(23,m+15)\n"
   ]
  },
  {
   "cell_type": "code",
   "execution_count": null,
   "metadata": {},
   "outputs": [],
   "source": []
  }
 ],
 "metadata": {
  "kernelspec": {
   "display_name": "Python 3",
   "language": "python",
   "name": "python3"
  },
  "language_info": {
   "codemirror_mode": {
    "name": "ipython",
    "version": 3
   },
   "file_extension": ".py",
   "mimetype": "text/x-python",
   "name": "python",
   "nbconvert_exporter": "python",
   "pygments_lexer": "ipython3",
   "version": "3.8.5"
  }
 },
 "nbformat": 4,
 "nbformat_minor": 4
}
